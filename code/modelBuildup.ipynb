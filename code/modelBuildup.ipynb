{
 "cells": [
  {
   "cell_type": "code",
   "execution_count": 6,
   "metadata": {},
   "outputs": [],
   "source": [
    "# Project plan:\n",
    "# (1) get feature vector from a pre-trained model - we will start with Resnet50, use linear classifier on that feature vector\n",
    "# (2) train a shallow network, eg. Resnet 18, on our data and see how we are doing\n",
    "# (3) generating a low (eg 3) layer network ourselves\n",
    "# (4) implement what other people have been doing (and try to improve that)\n",
    "# (5) extract features based on our expert rating rubric\n",
    "# (6) compare (4) and (5) in terms of a. computational power (see (7) and proposal feedback), b. accuracy,\n",
    "    # c. a more detailed analysis for (i) how we can improve human classification (ii) do error analysis\n",
    "    # how we could improve models with human feature extraction\n",
    "# ((7) in the proposal feedback, we got the suggestion to also optimize for small computational power\n",
    "    # (even though i have to look at the details again))\n",
    "\n",
    "\n",
    "\n",
    "# to do for first progress report:\n",
    "# Propose a model and an algorithm for tackling your task. You should describe the model and algorithm in\n",
    "# detail and use a concrete example to demonstrate how the model and algorithm work. Don't describe methods\n",
    "# in general; describe precisely how they apply to your problem (what are variables, factors, states, etc.)?\n",
    "# You should also have finished implementing a preliminary version of your algorithm (maybe it's not fully\n",
    "# optimized yet and it doesn't have all the features you want). Report your initial experimental results.\n"
   ]
  },
  {
   "cell_type": "code",
   "execution_count": 15,
   "metadata": {},
   "outputs": [],
   "source": [
    "\n"
   ]
  },
  {
   "cell_type": "code",
   "execution_count": 16,
   "metadata": {},
   "outputs": [],
   "source": [
    "\n"
   ]
  },
  {
   "cell_type": "code",
   "execution_count": 17,
   "metadata": {
    "scrolled": true
   },
   "outputs": [],
   "source": []
  },
  {
   "cell_type": "code",
   "execution_count": 18,
   "metadata": {},
   "outputs": [
    {
     "name": "stdout",
     "output_type": "stream",
     "text": [
      "[]\n"
     ]
    }
   ],
   "source": []
  },
  {
   "cell_type": "code",
   "execution_count": null,
   "metadata": {},
   "outputs": [],
   "source": []
  },
  {
   "cell_type": "code",
   "execution_count": null,
   "metadata": {},
   "outputs": [],
   "source": []
  },
  {
   "cell_type": "code",
   "execution_count": null,
   "metadata": {},
   "outputs": [],
   "source": []
  }
 ],
 "metadata": {
  "kernelspec": {
   "display_name": "Python 2",
   "language": "python",
   "name": "python2"
  },
  "language_info": {
   "codemirror_mode": {
    "name": "ipython",
    "version": 2
   },
   "file_extension": ".py",
   "mimetype": "text/x-python",
   "name": "python",
   "nbconvert_exporter": "python",
   "pygments_lexer": "ipython2",
   "version": "2.7.10"
  }
 },
 "nbformat": 4,
 "nbformat_minor": 2
}
